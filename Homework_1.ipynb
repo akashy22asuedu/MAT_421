{
  "nbformat": 4,
  "nbformat_minor": 0,
  "metadata": {
    "colab": {
      "provenance": [],
      "authorship_tag": "ABX9TyOuG7W7HDxCC2nPX5o1F69w",
      "include_colab_link": true
    },
    "kernelspec": {
      "name": "python3",
      "display_name": "Python 3"
    },
    "language_info": {
      "name": "python"
    }
  },
  "cells": [
    {
      "cell_type": "markdown",
      "metadata": {
        "id": "view-in-github",
        "colab_type": "text"
      },
      "source": [
        "<a href=\"https://colab.research.google.com/github/akashy22asuedu/MAT_421/blob/main/Homework_1.ipynb\" target=\"_parent\"><img src=\"https://colab.research.google.com/assets/colab-badge.svg\" alt=\"Open In Colab\"/></a>"
      ]
    },
    {
      "cell_type": "code",
      "source": [
        "# Runtime initialization\n",
        "import sys\n",
        "import math\n",
        "import numpy as np"
      ],
      "metadata": {
        "id": "jzMhAfTdHYv1"
      },
      "execution_count": 1,
      "outputs": []
    },
    {
      "cell_type": "markdown",
      "source": [
        "# Base_N and binary"
      ],
      "metadata": {
        "id": "857xnnR5j3ab"
      }
    },
    {
      "cell_type": "markdown",
      "source": [
        "## Base_N representation"
      ],
      "metadata": {
        "id": "nno0hT1h1Ez_"
      }
    },
    {
      "cell_type": "markdown",
      "source": [
        "To obtain a Base_N representation of a value, it may repeatedly be divided by the base N, where the remainder from each divison operation can be used to build the Base_N representation from the units place."
      ],
      "metadata": {
        "id": "c9n3gSCiR9J2"
      }
    },
    {
      "cell_type": "markdown",
      "source": [
        "\n",
        "Example:\n",
        "32<sub>DEC</sub> in ternary\n",
        "```\n",
        "32/3 = 10 r 2\n",
        "10/3 =  3 r 1\n",
        " 3/3 =  1 r 0\n",
        " 1/3 =  0 r 1\n",
        "```\n",
        "32<sub>DEC</sub> = 1012<sub>3</sub>"
      ],
      "metadata": {
        "id": "yr5O3AHKqG25"
      }
    },
    {
      "cell_type": "code",
      "source": [
        "# Verification\n",
        "32 == 2*(3**0) + 1*(3**1) + 0*(3**2) + 1*(3**3)"
      ],
      "metadata": {
        "id": "0NMaedA0SIWM",
        "colab": {
          "base_uri": "https://localhost:8080/"
        },
        "outputId": "689d7c2b-6b81-4d97-d6ba-fb70ee96dbfc"
      },
      "execution_count": 2,
      "outputs": [
        {
          "output_type": "execute_result",
          "data": {
            "text/plain": [
              "True"
            ]
          },
          "metadata": {},
          "execution_count": 2
        }
      ]
    },
    {
      "cell_type": "markdown",
      "source": [
        "## Binary Addition"
      ],
      "metadata": {
        "id": "X0fJ0aCnumSJ"
      }
    },
    {
      "cell_type": "markdown",
      "source": [
        "Addition in binary may be performed using the standard addition algorithm."
      ],
      "metadata": {
        "id": "bOTetBwpRy8E"
      }
    },
    {
      "cell_type": "markdown",
      "source": [
        "Example: 1011<sub>2</sub> + 0010<sub>2</sub>\n",
        "\n",
        "```\n",
        "   1011\n",
        "+  0010\n",
        "-------\n",
        "      1\n",
        "\n",
        "    1\n",
        "   1011\n",
        "+  0010\n",
        "-------\n",
        "     01\n",
        "\n",
        "   1011\n",
        "+  0010\n",
        "-------\n",
        "    101\n",
        "\n",
        "   1011\n",
        "+  0010\n",
        "-------\n",
        "   1101\n",
        "```\n",
        "1011<sub>2</sub> + 0010<sub>2</sub> = 1101<sub>2</sub>"
      ],
      "metadata": {
        "id": "KlFO7E8cv5Jy"
      }
    },
    {
      "cell_type": "code",
      "source": [
        "# Verification\n",
        "0b1101 == 0b1011 + 0b0010"
      ],
      "metadata": {
        "colab": {
          "base_uri": "https://localhost:8080/"
        },
        "id": "v3bNVTV-gSuu",
        "outputId": "1f8dd2ab-c6a0-4bc3-936b-ec2889e79dc3"
      },
      "execution_count": 3,
      "outputs": [
        {
          "output_type": "execute_result",
          "data": {
            "text/plain": [
              "True"
            ]
          },
          "metadata": {},
          "execution_count": 3
        }
      ]
    },
    {
      "cell_type": "markdown",
      "source": [
        "## Binary Multiplication"
      ],
      "metadata": {
        "id": "RrrbQfvZh4LV"
      }
    },
    {
      "cell_type": "markdown",
      "source": [
        "Example: 1011<sub>2</sub> * 0011<sub>2</sub>\n",
        "\n",
        "```\n",
        "   1011\n",
        "*  0011\n",
        "-------\n",
        "   1011\n",
        "+ 10110\n",
        "-------\n",
        " 100001\n",
        "```\n",
        "1011<sub>2</sub> * 0011<sub>2</sub> = 100001<sub>2</sub>"
      ],
      "metadata": {
        "id": "IYjfAxEdh7Ef"
      }
    },
    {
      "cell_type": "code",
      "source": [
        "# Verification\n",
        "0b100001 == 0b1011 * 0b0011"
      ],
      "metadata": {
        "colab": {
          "base_uri": "https://localhost:8080/"
        },
        "id": "_KJrmPMcjIUK",
        "outputId": "a788c410-b862-40d4-f6d9-89b91214ee98"
      },
      "execution_count": 4,
      "outputs": [
        {
          "output_type": "execute_result",
          "data": {
            "text/plain": [
              "True"
            ]
          },
          "metadata": {},
          "execution_count": 4
        }
      ]
    },
    {
      "cell_type": "markdown",
      "source": [
        "# Floating point numbers"
      ],
      "metadata": {
        "id": "HCc3Jjoxs8kh"
      }
    },
    {
      "cell_type": "markdown",
      "source": [
        "## Calculating the machine epsilon"
      ],
      "metadata": {
        "id": "581pkFQVCVkN"
      }
    },
    {
      "cell_type": "markdown",
      "source": [
        "The machine epsilon for any floating point system is defined as the gap between 1 and the next representable number after 1. Using a base (radix) b with m digits of precision for the fraction (mantissa), the machine epsilon is b<sup>1-m</sup>."
      ],
      "metadata": {
        "id": "Sy9PTUn1CvcJ"
      }
    },
    {
      "cell_type": "code",
      "source": [
        "# Verification for this machine\n",
        "sys.float_info.epsilon == sys.float_info.radix**(1-sys.float_info.mant_dig)"
      ],
      "metadata": {
        "colab": {
          "base_uri": "https://localhost:8080/"
        },
        "id": "hn00IOuRCY-w",
        "outputId": "48131f3f-ec54-4628-f2ff-5b2fb3473df2"
      },
      "execution_count": 5,
      "outputs": [
        {
          "output_type": "execute_result",
          "data": {
            "text/plain": [
              "True"
            ]
          },
          "metadata": {},
          "execution_count": 5
        }
      ]
    },
    {
      "cell_type": "markdown",
      "source": [
        "## Calculating the gap between a given non-subnormal number and the next representable number in terms of the machine epsilon"
      ],
      "metadata": {
        "id": "qFAdRneujym1"
      }
    },
    {
      "cell_type": "markdown",
      "source": [
        "Ignoring the sign bit and assuming the exponent is represented as the true exponent rather than with a bias, floating point numbers are represented as b<sup>e</sup>(1+f) where b is the base, e is the exponent, and f is the fraction.\n",
        "\n",
        "While in a computer with infinite precision f can take any value, in a computer with only m digits for the fraction, f can only be incremented in multiples of ϵ. Therefore, non-subnormal machine numbers are in the form b<sup>e</sup>(1+kϵ), where k is a positive integer less than b<sup>m-1</sup>.\n",
        "\n",
        "From this representation, it can be seen that incrementing k by 1 results in a change of b<sup>e</sup>ϵ, which is precisely the gap between a non-subnormal n and the next machine number.\n",
        "\n",
        "Ideally e should be directly extracted from the floating point representation of a given n, however it may also be calculated from n as b<sup>⌊log<sub>b</sub>(n)⌋</sup>."
      ],
      "metadata": {
        "id": "hDIXEDBevnEX"
      }
    },
    {
      "cell_type": "markdown",
      "source": [
        "Example: Finding the gap between 24 (assuming it is representable on the machine) and the smallest representable number after 24, in terms of the machine epsilon\n",
        "\n",
        "(ϵ)(b<sup>e<sub>24</sub></sup>) where e<sub>24</sub> is the exponent of 24 represented as a floating point"
      ],
      "metadata": {
        "id": "dK9znt7h8-XJ"
      }
    },
    {
      "cell_type": "code",
      "source": [
        "# Radix-independent verification\n",
        "np.spacing(24) == sys.float_info.epsilon*sys.float_info.radix**np.floor(math.log(24,sys.float_info.radix))"
      ],
      "metadata": {
        "colab": {
          "base_uri": "https://localhost:8080/"
        },
        "id": "UC4oSf-49Uzv",
        "outputId": "78f94628-4428-418c-a536-4fe58116179c"
      },
      "execution_count": 6,
      "outputs": [
        {
          "output_type": "execute_result",
          "data": {
            "text/plain": [
              "True"
            ]
          },
          "metadata": {},
          "execution_count": 6
        }
      ]
    },
    {
      "cell_type": "code",
      "source": [
        "# Verification by digit extraction\n",
        "# The frexp function is used to extract the exponent portion of the floating point number\n",
        "# The frexp function's mantissa is slightly different (like subnormal numbers), which is why frexp's output is subtracted by 1\n",
        "# Because frexp's implementation hard-codes the radix as 2, this verification only works in binary systems\n",
        "np.spacing(24) == sys.float_info.epsilon*sys.float_info.radix**(math.frexp(24)[1]-1)"
      ],
      "metadata": {
        "colab": {
          "base_uri": "https://localhost:8080/"
        },
        "id": "Hj_WWio-m_eJ",
        "outputId": "8afb406f-134a-4dba-f69e-8aee2e248980"
      },
      "execution_count": 7,
      "outputs": [
        {
          "output_type": "execute_result",
          "data": {
            "text/plain": [
              "True"
            ]
          },
          "metadata": {},
          "execution_count": 7
        }
      ]
    },
    {
      "cell_type": "markdown",
      "source": [
        "# Round-Off errors"
      ],
      "metadata": {
        "id": "yJF0E38xKBDC"
      }
    },
    {
      "cell_type": "markdown",
      "source": [
        "## Estimating the round-off error of a procedure"
      ],
      "metadata": {
        "id": "NKRlxXVUTLim"
      }
    },
    {
      "cell_type": "markdown",
      "source": [
        "Example: Estimating the round-off error when calculating √2\n",
        "\n",
        "A representation √2, an irrational number, in a floating point system, will have an error e from the actual value of √2. So, the result of the calculation will not be √2, but rather √2+e. To calculate the value of this e, the following equation can be used: (√2+e)<sup>2</sup>-2 = d, where d is the difference between the square of the representation of √2 and 2. This is a quadratic equation that can be rewritten as e<sup>2</sup>+2√2e-d = 0 and can be solved using a polynomial roots solver."
      ],
      "metadata": {
        "id": "WQ7UQQWYTMeY"
      }
    },
    {
      "cell_type": "code",
      "source": [
        "# Calculation for this machine\n",
        "result = math.sqrt(2)\n",
        "# One of the roots is large and can be discarded, while the other gives the error\n",
        "np.roots([1,2*result,result**2-2])[1]"
      ],
      "metadata": {
        "colab": {
          "base_uri": "https://localhost:8080/"
        },
        "id": "VFZXyY58TL8m",
        "outputId": "2714b116-9a69-4283-b46d-884d7d07e977"
      },
      "execution_count": 8,
      "outputs": [
        {
          "output_type": "execute_result",
          "data": {
            "text/plain": [
              "-1.5700924586837752e-16"
            ]
          },
          "metadata": {},
          "execution_count": 8
        }
      ]
    }
  ]
}